{
 "cells": [
  {
   "cell_type": "code",
   "execution_count": 2,
   "metadata": {},
   "outputs": [],
   "source": [
    "import pandas as pd\n",
    "import numpy as np\n",
    "import re"
   ]
  },
  {
   "cell_type": "markdown",
   "metadata": {},
   "source": [
    "### chosen the most popular keyboard layout and assuming eveyone uses this keyboard layout\n",
    "### special characters are replaced with \"_\""
   ]
  },
  {
   "cell_type": "code",
   "execution_count": 3,
   "metadata": {},
   "outputs": [],
   "source": [
    "us_layout = [['1234567890'],\n",
    "             ['qwertyuiop'],\n",
    "             ['asdfghjkl_'],\n",
    "             ['_zxcvbnm__']]"
   ]
  },
  {
   "cell_type": "code",
   "execution_count": 4,
   "metadata": {},
   "outputs": [],
   "source": [
    "us_layout_split = []\n",
    "for i in us_layout:\n",
    "    us_layout_split.append(list(i[0]))"
   ]
  },
  {
   "cell_type": "code",
   "execution_count": 5,
   "metadata": {},
   "outputs": [
    {
     "data": {
      "text/plain": [
       "[['1', '2', '3', '4', '5', '6', '7', '8', '9', '0'],\n",
       " ['q', 'w', 'e', 'r', 't', 'y', 'u', 'i', 'o', 'p'],\n",
       " ['a', 's', 'd', 'f', 'g', 'h', 'j', 'k', 'l', '_'],\n",
       " ['_', 'z', 'x', 'c', 'v', 'b', 'n', 'm', '_', '_']]"
      ]
     },
     "execution_count": 5,
     "metadata": {},
     "output_type": "execute_result"
    }
   ],
   "source": [
    "us_layout_split"
   ]
  },
  {
   "cell_type": "markdown",
   "metadata": {},
   "source": [
    "### Function to find the index of a given character"
   ]
  },
  {
   "cell_type": "code",
   "execution_count": 6,
   "metadata": {},
   "outputs": [],
   "source": [
    "def find(c):\n",
    "    for i, char in enumerate(us_layout_split):\n",
    "        try:\n",
    "            j = char.index(c)\n",
    "        except ValueError:\n",
    "            continue\n",
    "        return i, j"
   ]
  },
  {
   "cell_type": "markdown",
   "metadata": {},
   "source": [
    "### Creating a dictionary from the provided datasets"
   ]
  },
  {
   "cell_type": "code",
   "execution_count": 7,
   "metadata": {},
   "outputs": [],
   "source": [
    "eng_dict = pd.read_csv('Eng.csv',header=None)\n",
    "tr_dict = pd.read_csv('Turkish.csv',header=None)\n",
    "all_dict = eng_dict.append(tr_dict)\n",
    "all_dict = all_dict[0].str.lower()"
   ]
  },
  {
   "cell_type": "markdown",
   "metadata": {},
   "source": [
    "### Function to check dictionary for the given word"
   ]
  },
  {
   "cell_type": "code",
   "execution_count": 8,
   "metadata": {},
   "outputs": [],
   "source": [
    "def check_dict(word):\n",
    "    if word in all_dict.values:\n",
    "        return True\n",
    "    else:\n",
    "        return False"
   ]
  },
  {
   "cell_type": "markdown",
   "metadata": {},
   "source": [
    "### Function to remove unwanted characters from the given word"
   ]
  },
  {
   "cell_type": "code",
   "execution_count": 9,
   "metadata": {},
   "outputs": [],
   "source": [
    "def preprocces_word(word):\n",
    "    regex = re.compile('[^a-zA-Z]')\n",
    "    return regex.sub('', word).lower()"
   ]
  },
  {
   "cell_type": "markdown",
   "metadata": {},
   "source": [
    "### Fuction for calculating the junk score of a given word"
   ]
  },
  {
   "cell_type": "code",
   "execution_count": 10,
   "metadata": {},
   "outputs": [],
   "source": [
    "def junk_score(word):\n",
    "    word = preprocces_word(word)\n",
    "    if check_dict(word):\n",
    "        return 100\n",
    "    else:\n",
    "        total_dif = 0\n",
    "        count = 0\n",
    "        for i in word:\n",
    "            base_dif = 100\n",
    "            for j in word:\n",
    "                dif = sum(map(abs, np.subtract(find(i),find(j))))\n",
    "                if dif != 0 and dif < base_dif:\n",
    "                    total_dif += dif\n",
    "                    count += 1\n",
    "                    #print(i,'',j,'',dif)\n",
    "                    base_dif = dif\n",
    "        try:\n",
    "            return total_dif/count\n",
    "        except:\n",
    "            return -1"
   ]
  },
  {
   "cell_type": "markdown",
   "metadata": {},
   "source": [
    "### The function calculates the avarage of minium distances between the letters of a given word.\n",
    "### Lower the junk_score the more that word is likely to be a junk word.\n",
    "### If the word is included in the dictionary it gets a score of 100.\n",
    "### The lowest possible score is 1.\n",
    "### If the word only conatains 1 distinct letter, -1 is returned instead of an error.\n",
    "### Some real words will have low junk score e.g. \"look\" so a comprehensive dictionary is needed."
   ]
  },
  {
   "cell_type": "code",
   "execution_count": 11,
   "metadata": {},
   "outputs": [
    {
     "data": {
      "text/plain": [
       "1.25"
      ]
     },
     "execution_count": 11,
     "metadata": {},
     "output_type": "execute_result"
    }
   ],
   "source": [
    "junk_score('qweqwe')"
   ]
  },
  {
   "cell_type": "code",
   "execution_count": 12,
   "metadata": {},
   "outputs": [
    {
     "data": {
      "text/plain": [
       "3.5555555555555554"
      ]
     },
     "execution_count": 12,
     "metadata": {},
     "output_type": "execute_result"
    }
   ],
   "source": [
    "junk_score('table')"
   ]
  },
  {
   "cell_type": "code",
   "execution_count": 13,
   "metadata": {},
   "outputs": [
    {
     "data": {
      "text/plain": [
       "1.0"
      ]
     },
     "execution_count": 13,
     "metadata": {},
     "output_type": "execute_result"
    }
   ],
   "source": [
    "junk_score('look')"
   ]
  }
 ],
 "metadata": {
  "kernelspec": {
   "display_name": "Python 3",
   "language": "python",
   "name": "python3"
  },
  "language_info": {
   "codemirror_mode": {
    "name": "ipython",
    "version": 3
   },
   "file_extension": ".py",
   "mimetype": "text/x-python",
   "name": "python",
   "nbconvert_exporter": "python",
   "pygments_lexer": "ipython3",
   "version": "3.7.4"
  }
 },
 "nbformat": 4,
 "nbformat_minor": 4
}
